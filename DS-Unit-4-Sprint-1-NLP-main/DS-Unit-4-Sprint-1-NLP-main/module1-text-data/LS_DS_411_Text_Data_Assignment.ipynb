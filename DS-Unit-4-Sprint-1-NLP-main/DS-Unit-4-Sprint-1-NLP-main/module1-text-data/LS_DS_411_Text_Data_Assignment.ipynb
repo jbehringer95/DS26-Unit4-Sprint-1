{
 "cells": [
  {
   "cell_type": "markdown",
   "metadata": {},
   "source": [
    "<img align=\"left\" src=\"https://lever-client-logos.s3.amazonaws.com/864372b1-534c-480e-acd5-9711f850815c-1524247202159.png\" width=200>\n",
    "<br></br>\n",
    "<br></br>\n",
    "\n",
    "# Natural Language Processing (NLP)\n",
    "## *Data Science Unit 4 Sprint 1 Assignment 1*\n",
    "\n",
    "Your goal in this assignment: find the attributes of the best & worst coffee shops in the dataset. The text is fairly raw: dates in the review, extra words in the `star_rating` column, etc. You'll probably want to clean that stuff up for a better analysis. \n",
    "\n",
    "Analyze the corpus of text using text visualizations of token frequency. Try cleaning the data as much as possible. Try the following techniques: \n",
    "- Lemmatization\n",
    "- Custom stopword removal\n",
    "\n",
    "Keep in mind the attributes of good tokens. Once you have a solid baseline, layer in the star rating in your visualization(s). Key part of this assignment - produce a write-up of the attributes of the best and worst coffee shops. Based on your analysis, what makes the best the best and the worst the worst. Use graphs and numbesr from your analysis to support your conclusions. There should be plenty of markdown cells! :coffee:"
   ]
  },
  {
   "cell_type": "code",
   "execution_count": 1,
   "metadata": {},
   "outputs": [
    {
     "data": {
      "image/jpeg": "[encoded data removed]",
      "text/html": [
       "\n",
       "        <iframe\n",
       "            width=\"400\"\n",
       "            height=\"300\"\n",
       "            src=\"https://www.youtube.com/embed/Jml7NVYm8cs\"\n",
       "            frameborder=\"0\"\n",
       "            allowfullscreen\n",
       "        ></iframe>\n",
       "        "
      ],
      "text/plain": [
       "<IPython.lib.display.YouTubeVideo at 0x7f89d8070b90>"
      ]
     },
     "execution_count": 1,
     "metadata": {},
     "output_type": "execute_result"
    }
   ],
   "source": [
    "from IPython.display import YouTubeVideo\n",
    "\n",
    "YouTubeVideo('Jml7NVYm8cs')"
   ]
  },
  {
   "cell_type": "code",
   "execution_count": 2,
   "metadata": {},
   "outputs": [
    {
     "data": {
      "text/plain": [
       "'/home/jupyter/DS-Unit-4-Sprint-1-NLP/module1-text-data'"
      ]
     },
     "execution_count": 2,
     "metadata": {},
     "output_type": "execute_result"
    }
   ],
   "source": [
    "%pwd"
   ]
  },
  {
   "cell_type": "code",
   "execution_count": 3,
   "metadata": {},
   "outputs": [
    {
     "data": {
      "text/html": [
       "<div>\n",
       "<style scoped>\n",
       "    .dataframe tbody tr th:only-of-type {\n",
       "        vertical-align: middle;\n",
       "    }\n",
       "\n",
       "    .dataframe tbody tr th {\n",
       "        vertical-align: top;\n",
       "    }\n",
       "\n",
       "    .dataframe thead th {\n",
       "        text-align: right;\n",
       "    }\n",
       "</style>\n",
       "<table border=\"1\" class=\"dataframe\">\n",
       "  <thead>\n",
       "    <tr style=\"text-align: right;\">\n",
       "      <th></th>\n",
       "      <th>coffee_shop_name</th>\n",
       "      <th>full_review_text</th>\n",
       "      <th>star_rating</th>\n",
       "    </tr>\n",
       "  </thead>\n",
       "  <tbody>\n",
       "    <tr>\n",
       "      <th>0</th>\n",
       "      <td>The Factory - Cafe With a Soul</td>\n",
       "      <td>11/25/2016 1 check-in Love love loved the atm...</td>\n",
       "      <td>5.0 star rating</td>\n",
       "    </tr>\n",
       "    <tr>\n",
       "      <th>1</th>\n",
       "      <td>The Factory - Cafe With a Soul</td>\n",
       "      <td>12/2/2016 Listed in Date Night: Austin, Ambia...</td>\n",
       "      <td>4.0 star rating</td>\n",
       "    </tr>\n",
       "    <tr>\n",
       "      <th>2</th>\n",
       "      <td>The Factory - Cafe With a Soul</td>\n",
       "      <td>11/30/2016 1 check-in Listed in Brunch Spots ...</td>\n",
       "      <td>4.0 star rating</td>\n",
       "    </tr>\n",
       "    <tr>\n",
       "      <th>3</th>\n",
       "      <td>The Factory - Cafe With a Soul</td>\n",
       "      <td>11/25/2016 Very cool decor! Good drinks Nice ...</td>\n",
       "      <td>2.0 star rating</td>\n",
       "    </tr>\n",
       "    <tr>\n",
       "      <th>4</th>\n",
       "      <td>The Factory - Cafe With a Soul</td>\n",
       "      <td>12/3/2016 1 check-in They are located within ...</td>\n",
       "      <td>4.0 star rating</td>\n",
       "    </tr>\n",
       "  </tbody>\n",
       "</table>\n",
       "</div>"
      ],
      "text/plain": [
       "                  coffee_shop_name  \\\n",
       "0  The Factory - Cafe With a Soul    \n",
       "1  The Factory - Cafe With a Soul    \n",
       "2  The Factory - Cafe With a Soul    \n",
       "3  The Factory - Cafe With a Soul    \n",
       "4  The Factory - Cafe With a Soul    \n",
       "\n",
       "                                    full_review_text        star_rating  \n",
       "0   11/25/2016 1 check-in Love love loved the atm...   5.0 star rating   \n",
       "1   12/2/2016 Listed in Date Night: Austin, Ambia...   4.0 star rating   \n",
       "2   11/30/2016 1 check-in Listed in Brunch Spots ...   4.0 star rating   \n",
       "3   11/25/2016 Very cool decor! Good drinks Nice ...   2.0 star rating   \n",
       "4   12/3/2016 1 check-in They are located within ...   4.0 star rating   "
      ]
     },
     "execution_count": 3,
     "metadata": {},
     "output_type": "execute_result"
    }
   ],
   "source": [
    "import pandas as pd\n",
    "\n",
    "url = \"https://raw.githubusercontent.com/LambdaSchool/DS-Unit-4-Sprint-1-NLP/main/module1-text-data/data/yelp_coffeeshop_review_data.csv\"\n",
    "\n",
    "shops = pd.read_csv(url)\n",
    "shops.head()"
   ]
  },
  {
   "cell_type": "code",
   "execution_count": 4,
   "metadata": {},
   "outputs": [
    {
     "name": "stdout",
     "output_type": "stream",
     "text": [
      "Epoch Coffee                            400\n",
      "Halcyon                                 300\n",
      "The Factory - Cafe With a Soul          244\n",
      "Houndstooth Coffee                      200\n",
      "Venezia Italian Gelato                  200\n",
      "Caffé Medici                            143\n",
      "Apanas Coffee & Beer                    136\n",
      "Café Java                               100\n",
      "Pacha                                   100\n",
      "Seventh Flag Coffee Co                  100\n",
      "Russell’s Bakery                        100\n",
      "Genuine Joe                             100\n",
      "La Tazza Fresca                         100\n",
      "Tea Haus                                100\n",
      "Teo                                     100\n",
      "Dolce Neve                              100\n",
      "Sa-Ten                                  100\n",
      "Lola Savannah Coffee Lounge             100\n",
      "Mary’s Cafe                             100\n",
      "Bennu Coffee                            100\n",
      "Patika                                  100\n",
      "Hot Mama’s Cafe                         100\n",
      "Kick Butt Coffee Music & Booze          100\n",
      "Once Over Coffee Bar                    100\n",
      "Summer Moon Coffee Bar                  100\n",
      "The Steeping Room                       100\n",
      "TOMS                                    100\n",
      "Cenote                                  100\n",
      "Cherrywood Coffeehouse                  100\n",
      "Quack’s 43rd Street Bakery              100\n",
      "Vintage Heart Coffee                    100\n",
      "Caffe Medici                            100\n",
      "Sorrento’s Coffee                       100\n",
      "Dominican Joe                           100\n",
      "Corona Coffee                           100\n",
      "Jo’s Coffee                             100\n",
      "La Patisserie                           100\n",
      "Radio Coffee & Beer                     100\n",
      "Monkey Nest Coffee                      100\n",
      "Thunderbird Coffee                      100\n",
      "Strange Brew, Austin Coffee             100\n",
      "Mozart’s Coffee Roasters                100\n",
      "Picnik Austin                           100\n",
      "Flightpath Coffeehouse                  100\n",
      "Cuvée Coffee Bar                        100\n",
      "The Hideout Coffeehouse                 100\n",
      "Summermoon Coffee Bar                   100\n",
      "Stinson’s                               100\n",
      "Café Crème                              100\n",
      "The Buzz Mill                           100\n",
      "Anderson’s Coffee Company               100\n",
      "Juan Pelota                             100\n",
      "Alta’s Cafe                             100\n",
      "Arturo’s Underground Cafe               100\n",
      "Figure 8 Coffee Purveyors               100\n",
      "Cream Whiskers                          100\n",
      "Live Oak Market                         100\n",
      "Irie Bean Coffee Bar                    100\n",
      "Trianon Coffee                           98\n",
      "Fat Cats Organic Coffee And Dessert      94\n",
      "Emerald Tavern Games & Cafe              76\n",
      "Cafe Ruckus                              68\n",
      "Flat Track Coffee                        63\n",
      "Fleet Coffee                             57\n",
      "Third Coast Coffee Roasting Company      56\n",
      "Elixer Coffee                            52\n",
      "Brian’s Brew                             45\n",
      "Tuscany At 360                           33\n",
      "Mañana Coffee & Juice                    33\n",
      "My Sweet Austin                          31\n",
      "Holy Grounds                             30\n",
      "Friends & Neighbors                      29\n",
      "Legend Coffee                            28\n",
      "Flitch Coffee                            28\n",
      "Lucky Lab Coffee                         25\n",
      "Sister Coffee                            17\n",
      "Kowabunga Coffee                         16\n",
      "The Marvelous Vintage Tea Party Co.      10\n",
      "Lola Savannah Coffee Downtown             4\n",
      "Name: coffee_shop_name, dtype: int64\n"
     ]
    }
   ],
   "source": [
    "with pd.option_context('display.max_rows', 999):\n",
    "    print (shops.coffee_shop_name.value_counts())"
   ]
  },
  {
   "cell_type": "code",
   "execution_count": 5,
   "metadata": {},
   "outputs": [
    {
     "data": {
      "text/plain": [
       "(7616, 3)"
      ]
     },
     "execution_count": 5,
     "metadata": {},
     "output_type": "execute_result"
    }
   ],
   "source": [
    "shops.shape"
   ]
  },
  {
   "cell_type": "code",
   "execution_count": 6,
   "metadata": {},
   "outputs": [
    {
     "name": "stdout",
     "output_type": "stream",
     "text": [
      "                     coffee_shop_name  \\\n",
      "0     The Factory - Cafe With a Soul    \n",
      "1     The Factory - Cafe With a Soul    \n",
      "2     The Factory - Cafe With a Soul    \n",
      "3     The Factory - Cafe With a Soul    \n",
      "4     The Factory - Cafe With a Soul    \n",
      "...                               ...   \n",
      "7611               The Steeping Room    \n",
      "7612               The Steeping Room    \n",
      "7613               The Steeping Room    \n",
      "7614               The Steeping Room    \n",
      "7615               The Steeping Room    \n",
      "\n",
      "                                       full_review_text        star_rating  \n",
      "0      11/25/2016 1 check-in Love love loved the atm...   5.0 star rating   \n",
      "1      12/2/2016 Listed in Date Night: Austin, Ambia...   4.0 star rating   \n",
      "2      11/30/2016 1 check-in Listed in Brunch Spots ...   4.0 star rating   \n",
      "3      11/25/2016 Very cool decor! Good drinks Nice ...   2.0 star rating   \n",
      "4      12/3/2016 1 check-in They are located within ...   4.0 star rating   \n",
      "...                                                 ...                ...  \n",
      "7611   2/19/2015 I actually step into this restauran...   4.0 star rating   \n",
      "7612   1/21/2016 Ok, The Steeping Room IS awesome. H...   5.0 star rating   \n",
      "7613   4/30/2015 Loved coming here for tea, and the ...   4.0 star rating   \n",
      "7614   8/2/2015 The food is just average. The booths...   3.0 star rating   \n",
      "7615   5/23/2015 I finally stopped in for lunch with...   4.0 star rating   \n",
      "\n",
      "[7616 rows x 3 columns]\n"
     ]
    }
   ],
   "source": [
    "print(shops)"
   ]
  },
  {
   "cell_type": "code",
   "execution_count": 7,
   "metadata": {},
   "outputs": [
    {
     "data": {
      "text/plain": [
       "array(['The Factory - Cafe With a Soul ',\n",
       "       'The Marvelous Vintage Tea Party Co. ', 'Vintage Heart Coffee ',\n",
       "       'Fleet Coffee ', 'Mozart’s Coffee Roasters ',\n",
       "       'Summermoon Coffee Bar ', 'Monkey Nest Coffee ',\n",
       "       'Apanas Coffee & Beer ', 'Corona Coffee ', 'Café Crème ',\n",
       "       'Brian’s Brew ', 'Legend Coffee ', 'Venezia Italian Gelato ',\n",
       "       'Epoch Coffee ', 'Houndstooth Coffee ', 'Caffé Medici ',\n",
       "       'Flitch Coffee ', 'Caffe Medici ', 'Holy Grounds ',\n",
       "       'Figure 8 Coffee Purveyors ', 'Mañana Coffee & Juice ',\n",
       "       'Summer Moon Coffee Bar ', 'Fat Cats Organic Coffee And Dessert ',\n",
       "       'Flat Track Coffee ', 'Mary’s Cafe ', 'Anderson’s Coffee Company ',\n",
       "       'Flightpath Coffeehouse ', 'Third Coast Coffee Roasting Company ',\n",
       "       'Bennu Coffee ', 'Dolce Neve ', 'Thunderbird Coffee ', 'Halcyon ',\n",
       "       'Cherrywood Coffeehouse ', 'Jo’s Coffee ',\n",
       "       'Arturo’s Underground Cafe ', 'Patika ', 'Cenote ',\n",
       "       'The Hideout Coffeehouse ', 'Lucky Lab Coffee ', 'Cream Whiskers ',\n",
       "       'Lola Savannah Coffee Lounge ', 'Seventh Flag Coffee Co ',\n",
       "       'Irie Bean Coffee Bar ', 'Sa-Ten ', 'Tea Haus ',\n",
       "       'Friends & Neighbors ', 'Sorrento’s Coffee ', 'Elixer Coffee ',\n",
       "       'Cafe Ruckus ', 'The Buzz Mill ', 'Once Over Coffee Bar ', 'TOMS ',\n",
       "       'Genuine Joe ', 'Cuvée Coffee Bar ', 'Radio Coffee & Beer ',\n",
       "       'Dominican Joe ', 'Trianon Coffee ', 'Picnik Austin ',\n",
       "       'Kowabunga Coffee ', 'Kick Butt Coffee Music & Booze ',\n",
       "       'La Tazza Fresca ', 'Stinson’s ', 'Sister Coffee ', 'Pacha ',\n",
       "       'Strange Brew, Austin Coffee ', 'Quack’s 43rd Street Bakery ',\n",
       "       'Juan Pelota ', 'Alta’s Cafe ', 'Teo ', 'La Patisserie ',\n",
       "       'My Sweet Austin ', 'Lola Savannah Coffee Downtown ',\n",
       "       'Tuscany At 360 ', 'Café Java ', 'Russell’s Bakery ',\n",
       "       'Emerald Tavern Games & Cafe ', 'Live Oak Market ',\n",
       "       'Hot Mama’s Cafe ', 'The Steeping Room '], dtype=object)"
      ]
     },
     "execution_count": 7,
     "metadata": {},
     "output_type": "execute_result"
    }
   ],
   "source": [
    "shops['coffee_shop_name'].unique()"
   ]
  },
  {
   "cell_type": "code",
   "execution_count": 9,
   "metadata": {},
   "outputs": [
    {
     "data": {
      "text/plain": [
       "\" 9/18/2016 Just tried the hazelnut and cheesecake gelato. Husband had the Ferrero and coffee. So delicious and authentic. Our favorite was the hazelnut. Some of the best gelato I've had. \""
      ]
     },
     "execution_count": 9,
     "metadata": {},
     "output_type": "execute_result"
    }
   ],
   "source": [
    "shops['full_review_text'].iloc[1000]"
   ]
  },
  {
   "cell_type": "code",
   "execution_count": 10,
   "metadata": {},
   "outputs": [
    {
     "data": {
      "text/plain": [
       "7616"
      ]
     },
     "execution_count": 10,
     "metadata": {},
     "output_type": "execute_result"
    }
   ],
   "source": [
    "shops['full_review_text'].value_counts().sum()"
   ]
  },
  {
   "cell_type": "markdown",
   "metadata": {},
   "source": [
    "## How do we want to analyze these coffee shop tokens? \n",
    "\n",
    "- Overall Word / Token Count\n",
    "- View Counts by Rating \n",
    "- *Hint:* a 'bad' coffee shops has a rating betweeen 1 & 3 based on the distribution of ratings. A 'good' coffee shop is a 4 or 5. "
   ]
  },
  {
   "cell_type": "code",
   "execution_count": 11,
   "metadata": {},
   "outputs": [],
   "source": [
    "import re\n",
    "\n",
    "def tokenize(text):\n",
    "    \n",
    "    regex_remove_non_alphanumeric = '[^a-zA-Z ]'\n",
    "    replace_with = \"\"\n",
    "    \n",
    "    clean_text = re.sub(regex_remove_non_alphanumeric, replace_with, text)\n",
    "    \n",
    "    # So I had to use strip to remove whitespace from both the BEGINNING & END of a string. \n",
    "    # Had to do it here, before the split(\" \") as this can't be performed on a list.\n",
    "    stripped_text = clean_text.strip(\"  \")\n",
    "    \n",
    "    clean_text = stripped_text.lower()\n",
    "    \n",
    "    split_text = clean_text.split(\" \")\n",
    "    \n",
    "    \n",
    "    # List comphrehension for removing blank strings left over from stripping. \n",
    "    #There were some numerical values leftover because some rating reviews had actual ratings within the ratings \n",
    "    tokens = [x for x in split_text if x]\n",
    "    \n",
    "    return tokens"
   ]
  },
  {
   "cell_type": "code",
   "execution_count": 12,
   "metadata": {},
   "outputs": [],
   "source": [
    "shops['tokens'] = shops['full_review_text'].apply(tokenize)"
   ]
  },
  {
   "cell_type": "code",
   "execution_count": 13,
   "metadata": {},
   "outputs": [
    {
     "data": {
      "text/plain": [
       "0       [checkin, love, love, loved, the, atmosphere, ...\n",
       "1       [listed, in, date, night, austin, ambiance, in...\n",
       "2       [checkin, listed, in, brunch, spots, i, loved,...\n",
       "3       [very, cool, decor, good, drinks, nice, seatin...\n",
       "4       [checkin, they, are, located, within, the, nor...\n",
       "                              ...                        \n",
       "7611    [i, actually, step, into, this, restaurant, by...\n",
       "7612    [ok, the, steeping, room, is, awesome, how, do...\n",
       "7613    [loved, coming, here, for, tea, and, the, atmo...\n",
       "7614    [the, food, is, just, average, the, booths, di...\n",
       "7615    [i, finally, stopped, in, for, lunch, with, my...\n",
       "Name: tokens, Length: 7616, dtype: object"
      ]
     },
     "execution_count": 13,
     "metadata": {},
     "output_type": "execute_result"
    }
   ],
   "source": [
    "shops['tokens']"
   ]
  },
  {
   "cell_type": "code",
   "execution_count": 14,
   "metadata": {},
   "outputs": [
    {
     "data": {
      "text/html": [
       "<div>\n",
       "<style scoped>\n",
       "    .dataframe tbody tr th:only-of-type {\n",
       "        vertical-align: middle;\n",
       "    }\n",
       "\n",
       "    .dataframe tbody tr th {\n",
       "        vertical-align: top;\n",
       "    }\n",
       "\n",
       "    .dataframe thead th {\n",
       "        text-align: right;\n",
       "    }\n",
       "</style>\n",
       "<table border=\"1\" class=\"dataframe\">\n",
       "  <thead>\n",
       "    <tr style=\"text-align: right;\">\n",
       "      <th></th>\n",
       "      <th>coffee_shop_name</th>\n",
       "      <th>full_review_text</th>\n",
       "      <th>star_rating</th>\n",
       "      <th>tokens</th>\n",
       "    </tr>\n",
       "  </thead>\n",
       "  <tbody>\n",
       "    <tr>\n",
       "      <th>0</th>\n",
       "      <td>The Factory - Cafe With a Soul</td>\n",
       "      <td>11/25/2016 1 check-in Love love loved the atm...</td>\n",
       "      <td>5.0 star rating</td>\n",
       "      <td>[checkin, love, love, loved, the, atmosphere, ...</td>\n",
       "    </tr>\n",
       "    <tr>\n",
       "      <th>1</th>\n",
       "      <td>The Factory - Cafe With a Soul</td>\n",
       "      <td>12/2/2016 Listed in Date Night: Austin, Ambia...</td>\n",
       "      <td>4.0 star rating</td>\n",
       "      <td>[listed, in, date, night, austin, ambiance, in...</td>\n",
       "    </tr>\n",
       "    <tr>\n",
       "      <th>2</th>\n",
       "      <td>The Factory - Cafe With a Soul</td>\n",
       "      <td>11/30/2016 1 check-in Listed in Brunch Spots ...</td>\n",
       "      <td>4.0 star rating</td>\n",
       "      <td>[checkin, listed, in, brunch, spots, i, loved,...</td>\n",
       "    </tr>\n",
       "    <tr>\n",
       "      <th>3</th>\n",
       "      <td>The Factory - Cafe With a Soul</td>\n",
       "      <td>11/25/2016 Very cool decor! Good drinks Nice ...</td>\n",
       "      <td>2.0 star rating</td>\n",
       "      <td>[very, cool, decor, good, drinks, nice, seatin...</td>\n",
       "    </tr>\n",
       "    <tr>\n",
       "      <th>4</th>\n",
       "      <td>The Factory - Cafe With a Soul</td>\n",
       "      <td>12/3/2016 1 check-in They are located within ...</td>\n",
       "      <td>4.0 star rating</td>\n",
       "      <td>[checkin, they, are, located, within, the, nor...</td>\n",
       "    </tr>\n",
       "  </tbody>\n",
       "</table>\n",
       "</div>"
      ],
      "text/plain": [
       "                  coffee_shop_name  \\\n",
       "0  The Factory - Cafe With a Soul    \n",
       "1  The Factory - Cafe With a Soul    \n",
       "2  The Factory - Cafe With a Soul    \n",
       "3  The Factory - Cafe With a Soul    \n",
       "4  The Factory - Cafe With a Soul    \n",
       "\n",
       "                                    full_review_text        star_rating  \\\n",
       "0   11/25/2016 1 check-in Love love loved the atm...   5.0 star rating    \n",
       "1   12/2/2016 Listed in Date Night: Austin, Ambia...   4.0 star rating    \n",
       "2   11/30/2016 1 check-in Listed in Brunch Spots ...   4.0 star rating    \n",
       "3   11/25/2016 Very cool decor! Good drinks Nice ...   2.0 star rating    \n",
       "4   12/3/2016 1 check-in They are located within ...   4.0 star rating    \n",
       "\n",
       "                                              tokens  \n",
       "0  [checkin, love, love, loved, the, atmosphere, ...  \n",
       "1  [listed, in, date, night, austin, ambiance, in...  \n",
       "2  [checkin, listed, in, brunch, spots, i, loved,...  \n",
       "3  [very, cool, decor, good, drinks, nice, seatin...  \n",
       "4  [checkin, they, are, located, within, the, nor...  "
      ]
     },
     "execution_count": 14,
     "metadata": {},
     "output_type": "execute_result"
    }
   ],
   "source": [
    "shops.head()"
   ]
  },
  {
   "cell_type": "code",
   "execution_count": 15,
   "metadata": {},
   "outputs": [],
   "source": [
    "def rating(rate):\n",
    "    regex_remove_text = '[a-zA-Z ]'\n",
    "    replace_this = \"\"\n",
    "    clean_rate = re.sub(regex_remove_text, replace_this, rate)\n",
    "    return clean_rate"
   ]
  },
  {
   "cell_type": "code",
   "execution_count": 16,
   "metadata": {},
   "outputs": [],
   "source": [
    "shops['star_rating'] = shops['star_rating'].apply(rating).astype(float)"
   ]
  },
  {
   "cell_type": "code",
   "execution_count": 17,
   "metadata": {},
   "outputs": [
    {
     "data": {
      "text/plain": [
       "0       5.0\n",
       "1       4.0\n",
       "2       4.0\n",
       "3       2.0\n",
       "4       4.0\n",
       "       ... \n",
       "7611    4.0\n",
       "7612    5.0\n",
       "7613    4.0\n",
       "7614    3.0\n",
       "7615    4.0\n",
       "Name: star_rating, Length: 7616, dtype: float64"
      ]
     },
     "execution_count": 17,
     "metadata": {},
     "output_type": "execute_result"
    }
   ],
   "source": [
    "shops['star_rating']"
   ]
  },
  {
   "cell_type": "code",
   "execution_count": 18,
   "metadata": {},
   "outputs": [
    {
     "data": {
      "text/html": [
       "<div>\n",
       "<style scoped>\n",
       "    .dataframe tbody tr th:only-of-type {\n",
       "        vertical-align: middle;\n",
       "    }\n",
       "\n",
       "    .dataframe tbody tr th {\n",
       "        vertical-align: top;\n",
       "    }\n",
       "\n",
       "    .dataframe thead th {\n",
       "        text-align: right;\n",
       "    }\n",
       "</style>\n",
       "<table border=\"1\" class=\"dataframe\">\n",
       "  <thead>\n",
       "    <tr style=\"text-align: right;\">\n",
       "      <th></th>\n",
       "      <th>coffee_shop_name</th>\n",
       "      <th>full_review_text</th>\n",
       "      <th>star_rating</th>\n",
       "      <th>tokens</th>\n",
       "    </tr>\n",
       "  </thead>\n",
       "  <tbody>\n",
       "    <tr>\n",
       "      <th>0</th>\n",
       "      <td>The Factory - Cafe With a Soul</td>\n",
       "      <td>11/25/2016 1 check-in Love love loved the atm...</td>\n",
       "      <td>5.0</td>\n",
       "      <td>[checkin, love, love, loved, the, atmosphere, ...</td>\n",
       "    </tr>\n",
       "    <tr>\n",
       "      <th>1</th>\n",
       "      <td>The Factory - Cafe With a Soul</td>\n",
       "      <td>12/2/2016 Listed in Date Night: Austin, Ambia...</td>\n",
       "      <td>4.0</td>\n",
       "      <td>[listed, in, date, night, austin, ambiance, in...</td>\n",
       "    </tr>\n",
       "    <tr>\n",
       "      <th>2</th>\n",
       "      <td>The Factory - Cafe With a Soul</td>\n",
       "      <td>11/30/2016 1 check-in Listed in Brunch Spots ...</td>\n",
       "      <td>4.0</td>\n",
       "      <td>[checkin, listed, in, brunch, spots, i, loved,...</td>\n",
       "    </tr>\n",
       "    <tr>\n",
       "      <th>3</th>\n",
       "      <td>The Factory - Cafe With a Soul</td>\n",
       "      <td>11/25/2016 Very cool decor! Good drinks Nice ...</td>\n",
       "      <td>2.0</td>\n",
       "      <td>[very, cool, decor, good, drinks, nice, seatin...</td>\n",
       "    </tr>\n",
       "    <tr>\n",
       "      <th>4</th>\n",
       "      <td>The Factory - Cafe With a Soul</td>\n",
       "      <td>12/3/2016 1 check-in They are located within ...</td>\n",
       "      <td>4.0</td>\n",
       "      <td>[checkin, they, are, located, within, the, nor...</td>\n",
       "    </tr>\n",
       "  </tbody>\n",
       "</table>\n",
       "</div>"
      ],
      "text/plain": [
       "                  coffee_shop_name  \\\n",
       "0  The Factory - Cafe With a Soul    \n",
       "1  The Factory - Cafe With a Soul    \n",
       "2  The Factory - Cafe With a Soul    \n",
       "3  The Factory - Cafe With a Soul    \n",
       "4  The Factory - Cafe With a Soul    \n",
       "\n",
       "                                    full_review_text  star_rating  \\\n",
       "0   11/25/2016 1 check-in Love love loved the atm...          5.0   \n",
       "1   12/2/2016 Listed in Date Night: Austin, Ambia...          4.0   \n",
       "2   11/30/2016 1 check-in Listed in Brunch Spots ...          4.0   \n",
       "3   11/25/2016 Very cool decor! Good drinks Nice ...          2.0   \n",
       "4   12/3/2016 1 check-in They are located within ...          4.0   \n",
       "\n",
       "                                              tokens  \n",
       "0  [checkin, love, love, loved, the, atmosphere, ...  \n",
       "1  [listed, in, date, night, austin, ambiance, in...  \n",
       "2  [checkin, listed, in, brunch, spots, i, loved,...  \n",
       "3  [very, cool, decor, good, drinks, nice, seatin...  \n",
       "4  [checkin, they, are, located, within, the, nor...  "
      ]
     },
     "execution_count": 18,
     "metadata": {},
     "output_type": "execute_result"
    }
   ],
   "source": [
    "shops.head()"
   ]
  },
  {
   "cell_type": "code",
   "execution_count": 19,
   "metadata": {},
   "outputs": [],
   "source": [
    "from collections import Counter\n",
    "\n",
    "import squarify\n",
    "import matplotlib.pyplot as plt\n",
    "import seaborn as sns\n",
    "\n",
    "import spacy\n",
    "from spacy.tokenizer import Tokenizer\n",
    "from nltk.stem import PorterStemmer\n",
    "\n",
    "nlp = spacy.load('en_core_web_lg')"
   ]
  },
  {
   "cell_type": "code",
   "execution_count": 20,
   "metadata": {},
   "outputs": [
    {
     "data": {
      "text/plain": [
       "[('the', 34809),\n",
       " ('and', 26651),\n",
       " ('a', 22756),\n",
       " ('i', 20249),\n",
       " ('to', 17164),\n",
       " ('of', 12600),\n",
       " ('is', 11999),\n",
       " ('coffee', 10354),\n",
       " ('was', 9707),\n",
       " ('in', 9546),\n",
       " ('it', 9380),\n",
       " ('for', 8680),\n",
       " ('this', 6583),\n",
       " ('but', 6501),\n",
       " ('with', 6332),\n",
       " ('my', 6202),\n",
       " ('they', 6165),\n",
       " ('that', 6151),\n",
       " ('you', 5847),\n",
       " ('place', 5426)]"
      ]
     },
     "execution_count": 20,
     "metadata": {},
     "output_type": "execute_result"
    }
   ],
   "source": [
    "word_counter = Counter()\n",
    "\n",
    "shops[\"tokens\"].apply(lambda token: word_counter.update(token));\n",
    "\n",
    "word_counter.most_common(20)"
   ]
  },
  {
   "cell_type": "code",
   "execution_count": 21,
   "metadata": {},
   "outputs": [],
   "source": [
    "def count(tokens):\n",
    "    \n",
    "    word_counts = Counter()\n",
    "    \n",
    "    appears_in = Counter()\n",
    "\n",
    "    total_docs = len(tokens)\n",
    "\n",
    "    for token in tokens: \n",
    "        word_counts.update(token)\n",
    "        appears_in.update(set(token))\n",
    "\n",
    "    temp = zip(word_counts.keys(), word_counts.values())\n",
    "    wc = pd.DataFrame(temp, columns = ['word', 'count'])\n",
    "\n",
    "    wc['rank'] = wc['count'].rank(method='first', ascending=False)\n",
    "    total = wc['count'].sum()\n",
    "\n",
    "    wc['pct_total'] = wc['count'].apply(lambda token_count: token_count / total * 100)\n",
    " \n",
    "    wc = wc.sort_values(by='rank')\n",
    "    wc['cul_pct_total'] = wc['pct_total'].cumsum()\n",
    "\n",
    "    t2 = zip(appears_in.keys(), appears_in.values())\n",
    "    ac = pd.DataFrame(t2, columns=['word', 'appears_in'])\n",
    "    \n",
    "    wc = ac.merge(wc, on='word')\n",
    "\n",
    "    wc['appears_in_pct'] = wc['appears_in'].apply(lambda x: x / total_docs * 100)\n",
    "\n",
    "    return wc.sort_values(by='rank')"
   ]
  },
  {
   "cell_type": "code",
   "execution_count": null,
   "metadata": {},
   "outputs": [],
   "source": []
  },
  {
   "cell_type": "code",
   "execution_count": 22,
   "metadata": {},
   "outputs": [
    {
     "data": {
      "text/html": [
       "<div>\n",
       "<style scoped>\n",
       "    .dataframe tbody tr th:only-of-type {\n",
       "        vertical-align: middle;\n",
       "    }\n",
       "\n",
       "    .dataframe tbody tr th {\n",
       "        vertical-align: top;\n",
       "    }\n",
       "\n",
       "    .dataframe thead th {\n",
       "        text-align: right;\n",
       "    }\n",
       "</style>\n",
       "<table border=\"1\" class=\"dataframe\">\n",
       "  <thead>\n",
       "    <tr style=\"text-align: right;\">\n",
       "      <th></th>\n",
       "      <th>word</th>\n",
       "      <th>appears_in</th>\n",
       "      <th>count</th>\n",
       "      <th>rank</th>\n",
       "      <th>pct_total</th>\n",
       "      <th>cul_pct_total</th>\n",
       "      <th>appears_in_pct</th>\n",
       "    </tr>\n",
       "  </thead>\n",
       "  <tbody>\n",
       "    <tr>\n",
       "      <th>35</th>\n",
       "      <td>the</td>\n",
       "      <td>6847</td>\n",
       "      <td>34809</td>\n",
       "      <td>1.0</td>\n",
       "      <td>4.541155</td>\n",
       "      <td>4.541155</td>\n",
       "      <td>89.902836</td>\n",
       "    </tr>\n",
       "    <tr>\n",
       "      <th>39</th>\n",
       "      <td>and</td>\n",
       "      <td>6864</td>\n",
       "      <td>26651</td>\n",
       "      <td>2.0</td>\n",
       "      <td>3.476869</td>\n",
       "      <td>8.018024</td>\n",
       "      <td>90.126050</td>\n",
       "    </tr>\n",
       "    <tr>\n",
       "      <th>34</th>\n",
       "      <td>a</td>\n",
       "      <td>6246</td>\n",
       "      <td>22756</td>\n",
       "      <td>3.0</td>\n",
       "      <td>2.968730</td>\n",
       "      <td>10.986754</td>\n",
       "      <td>82.011555</td>\n",
       "    </tr>\n",
       "    <tr>\n",
       "      <th>17</th>\n",
       "      <td>i</td>\n",
       "      <td>5532</td>\n",
       "      <td>20249</td>\n",
       "      <td>4.0</td>\n",
       "      <td>2.641669</td>\n",
       "      <td>13.628423</td>\n",
       "      <td>72.636555</td>\n",
       "    </tr>\n",
       "    <tr>\n",
       "      <th>28</th>\n",
       "      <td>to</td>\n",
       "      <td>5653</td>\n",
       "      <td>17164</td>\n",
       "      <td>5.0</td>\n",
       "      <td>2.239202</td>\n",
       "      <td>15.867626</td>\n",
       "      <td>74.225315</td>\n",
       "    </tr>\n",
       "  </tbody>\n",
       "</table>\n",
       "</div>"
      ],
      "text/plain": [
       "   word  appears_in  count  rank  pct_total  cul_pct_total  appears_in_pct\n",
       "35  the        6847  34809   1.0   4.541155       4.541155       89.902836\n",
       "39  and        6864  26651   2.0   3.476869       8.018024       90.126050\n",
       "34    a        6246  22756   3.0   2.968730      10.986754       82.011555\n",
       "17    i        5532  20249   4.0   2.641669      13.628423       72.636555\n",
       "28   to        5653  17164   5.0   2.239202      15.867626       74.225315"
      ]
     },
     "execution_count": 22,
     "metadata": {},
     "output_type": "execute_result"
    }
   ],
   "source": [
    "wc = count(shops['tokens'])\n",
    "wc.head()"
   ]
  },
  {
   "cell_type": "code",
   "execution_count": 23,
   "metadata": {},
   "outputs": [
    {
     "data": {
      "text/html": [
       "<div>\n",
       "<style scoped>\n",
       "    .dataframe tbody tr th:only-of-type {\n",
       "        vertical-align: middle;\n",
       "    }\n",
       "\n",
       "    .dataframe tbody tr th {\n",
       "        vertical-align: top;\n",
       "    }\n",
       "\n",
       "    .dataframe thead th {\n",
       "        text-align: right;\n",
       "    }\n",
       "</style>\n",
       "<table border=\"1\" class=\"dataframe\">\n",
       "  <thead>\n",
       "    <tr style=\"text-align: right;\">\n",
       "      <th></th>\n",
       "      <th>word</th>\n",
       "      <th>appears_in</th>\n",
       "      <th>count</th>\n",
       "      <th>rank</th>\n",
       "      <th>pct_total</th>\n",
       "      <th>cul_pct_total</th>\n",
       "      <th>appears_in_pct</th>\n",
       "    </tr>\n",
       "  </thead>\n",
       "  <tbody>\n",
       "    <tr>\n",
       "      <th>19838</th>\n",
       "      <td>roomier</td>\n",
       "      <td>1</td>\n",
       "      <td>1</td>\n",
       "      <td>19839.0</td>\n",
       "      <td>0.00013</td>\n",
       "      <td>99.999478</td>\n",
       "      <td>0.01313</td>\n",
       "    </tr>\n",
       "    <tr>\n",
       "      <th>19837</th>\n",
       "      <td>windowed</td>\n",
       "      <td>1</td>\n",
       "      <td>1</td>\n",
       "      <td>19840.0</td>\n",
       "      <td>0.00013</td>\n",
       "      <td>99.999609</td>\n",
       "      <td>0.01313</td>\n",
       "    </tr>\n",
       "    <tr>\n",
       "      <th>19839</th>\n",
       "      <td>actuality</td>\n",
       "      <td>1</td>\n",
       "      <td>1</td>\n",
       "      <td>19841.0</td>\n",
       "      <td>0.00013</td>\n",
       "      <td>99.999739</td>\n",
       "      <td>0.01313</td>\n",
       "    </tr>\n",
       "    <tr>\n",
       "      <th>19840</th>\n",
       "      <td>crass</td>\n",
       "      <td>1</td>\n",
       "      <td>1</td>\n",
       "      <td>19842.0</td>\n",
       "      <td>0.00013</td>\n",
       "      <td>99.999870</td>\n",
       "      <td>0.01313</td>\n",
       "    </tr>\n",
       "    <tr>\n",
       "      <th>19841</th>\n",
       "      <td>digestion</td>\n",
       "      <td>1</td>\n",
       "      <td>1</td>\n",
       "      <td>19843.0</td>\n",
       "      <td>0.00013</td>\n",
       "      <td>100.000000</td>\n",
       "      <td>0.01313</td>\n",
       "    </tr>\n",
       "  </tbody>\n",
       "</table>\n",
       "</div>"
      ],
      "text/plain": [
       "            word  appears_in  count     rank  pct_total  cul_pct_total  \\\n",
       "19838    roomier           1      1  19839.0    0.00013      99.999478   \n",
       "19837   windowed           1      1  19840.0    0.00013      99.999609   \n",
       "19839  actuality           1      1  19841.0    0.00013      99.999739   \n",
       "19840      crass           1      1  19842.0    0.00013      99.999870   \n",
       "19841  digestion           1      1  19843.0    0.00013     100.000000   \n",
       "\n",
       "       appears_in_pct  \n",
       "19838         0.01313  \n",
       "19837         0.01313  \n",
       "19839         0.01313  \n",
       "19840         0.01313  \n",
       "19841         0.01313  "
      ]
     },
     "execution_count": 23,
     "metadata": {},
     "output_type": "execute_result"
    }
   ],
   "source": [
    "wc.tail()"
   ]
  },
  {
   "cell_type": "code",
   "execution_count": 24,
   "metadata": {},
   "outputs": [
    {
     "data": {
      "text/plain": [
       "coffee_shop_name     object\n",
       "full_review_text     object\n",
       "star_rating         float64\n",
       "tokens               object\n",
       "dtype: object"
      ]
     },
     "execution_count": 24,
     "metadata": {},
     "output_type": "execute_result"
    }
   ],
   "source": [
    "shops.dtypes"
   ]
  },
  {
   "cell_type": "code",
   "execution_count": 25,
   "metadata": {},
   "outputs": [],
   "source": [
    "import spacy\n",
    "from spacy.tokenizer import Tokenizer\n",
    "\n",
    "nlp = spacy.load('en_core_web_lg')"
   ]
  },
  {
   "cell_type": "code",
   "execution_count": 35,
   "metadata": {},
   "outputs": [],
   "source": [
    "STOP_WORDS = nlp.Defaults.stop_words.union([' ','', 'coffee', 'place', \"i'm\", \"it's\", 'good', 'like', \"check-in\", '-', '1', '$' ])"
   ]
  },
  {
   "cell_type": "code",
   "execution_count": null,
   "metadata": {},
   "outputs": [],
   "source": [
    "# Stop Words\n",
    "\n",
    "tokens = []\n",
    "    \n",
    "for doc in nlp.pipe(shops['full_review_text']):\n",
    "    \n",
    "    doc_tokens = []\n",
    "    \n",
    "    for token in doc:\n",
    "        if (token.is_punct == False) & (token.text.lower() not in STOP_WORDS):\n",
    "            doc_tokens.append(token.text.lower())\n",
    "            \n",
    "    tokens.append(doc_tokens)\n",
    "    \n",
    "shops['tokens'] = tokens"
   ]
  },
  {
   "cell_type": "code",
   "execution_count": null,
   "metadata": {},
   "outputs": [],
   "source": [
    "shops.head()"
   ]
  },
  {
   "cell_type": "code",
   "execution_count": null,
   "metadata": {},
   "outputs": [],
   "source": [
    "# Using Boolean Masking to demarcate good and bad shops from each other by user review ratings\n",
    "mask = shops['star_rating'] > 3.0"
   ]
  },
  {
   "cell_type": "code",
   "execution_count": null,
   "metadata": {},
   "outputs": [],
   "source": [
    "good_shop = shops[mask]\n",
    "bad_shop = shops[~mask]"
   ]
  },
  {
   "cell_type": "code",
   "execution_count": null,
   "metadata": {},
   "outputs": [],
   "source": [
    "good_wc = count(good_shop['tokens'])\n",
    "bad_wc = count(bad_shop['tokens'])"
   ]
  },
  {
   "cell_type": "code",
   "execution_count": null,
   "metadata": {},
   "outputs": [],
   "source": [
    "good_wc.head()"
   ]
  },
  {
   "cell_type": "code",
   "execution_count": null,
   "metadata": {},
   "outputs": [],
   "source": [
    "bad_wc.head()"
   ]
  },
  {
   "cell_type": "markdown",
   "metadata": {},
   "source": [
    "## Can visualize the words with the greatest difference in counts between 'good' & 'bad'?\n",
    "\n",
    "Couple Notes: \n",
    "- Rel. freq. instead of absolute counts b/c of different numbers of reviews\n",
    "- Only look at the top 5-10 words with the greatest differences\n"
   ]
  },
  {
   "cell_type": "code",
   "execution_count": null,
   "metadata": {},
   "outputs": [],
   "source": [
    "import squarify\n",
    "import matplotlib.pyplot as plt\n",
    "\n",
    "good_wc_top10 = good_wc[good_wc['rank'] <= 10]\n",
    "\n",
    "squarify.plot(sizes=good_wc_top10['pct_total'], label=good_wc_top10['word'], alpha=.8 )\n",
    "plt.axis('off')\n",
    "plt.show()\n",
    "\n",
    "\n",
    "bad_wc_top10 = bad_wc[bad_wc['rank'] <= 10]\n",
    "\n",
    "squarify.plot(sizes=bad_wc_top10['pct_total'], label=bad_wc_top10['word'], alpha=.8 )\n",
    "plt.axis('off')\n",
    "plt.show()"
   ]
  },
  {
   "cell_type": "markdown",
   "metadata": {
    "colab_type": "text",
    "id": "1dCb1q8XphcP",
    "toc-hr-collapsed": true
   },
   "source": [
    "## Stretch Goals\n",
    "\n",
    "* Analyze another corpus of documents - such as Indeed.com job listings ;).\n",
    "* Play with the Spacy API to\n",
    " - Extract Named Entities\n",
    " - Extracting 'noun chunks'\n",
    " - Attempt Document Classification with just Spacy\n",
    " - *Note:* This [course](https://course.spacy.io/) will be of interesting in helping you with these stretch goals. \n",
    "* Try to build a plotly dash app with your text data \n",
    "\n"
   ]
  }
 ],
 "metadata": {
  "colab": {
   "collapsed_sections": [],
   "name": "LS_DS_421_Text_Data_Assignment.ipynb",
   "provenance": [],
   "version": "0.3.2"
  },
  "environment": {
   "name": "common-cpu.m69",
   "type": "gcloud",
   "uri": "gcr.io/deeplearning-platform-release/base-cpu:m69"
  },
  "kernelspec": {
   "name": "python370jvsc74a57bd0d9d4c4d46cd2df6cd3e29f938c44eab26042d9bb144eda5c9f4cbd5e9634f1c8",
   "display_name": "Python 3.7.0 64-bit ('U4-S1-NLP': conda)"
  },
  "language_info": {
   "codemirror_mode": {
    "name": "ipython",
    "version": 3
   },
   "file_extension": ".py",
   "mimetype": "text/x-python",
   "name": "python",
   "nbconvert_exporter": "python",
   "pygments_lexer": "ipython3",
   "version": "3.7.0"
  },
  "toc-autonumbering": false
 },
 "nbformat": 4,
 "nbformat_minor": 4
}